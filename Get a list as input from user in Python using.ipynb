{
 "cells": [
  {
   "cell_type": "code",
   "execution_count": 1,
   "id": "5a3399d7",
   "metadata": {},
   "outputs": [
    {
     "name": "stdout",
     "output_type": "stream",
     "text": [
      "Enter number of elements: 7\n",
      "7\n",
      "34\n",
      "6\n",
      "90\n",
      "89\n",
      "76\n",
      "1\n",
      "[7, 34, 6, 90, 89, 76, 1]\n"
     ]
    }
   ],
   "source": [
    "lst=[]\n",
    "itemes=int(input(\"Enter number of elements: \"))\n",
    "for item in range(0,itemes) :\n",
    "    ele=int(input())\n",
    "    lst.append(ele)\n",
    "print(lst)"
   ]
  },
  {
   "cell_type": "code",
   "execution_count": null,
   "id": "b099a1a8",
   "metadata": {},
   "outputs": [
    {
     "name": "stdout",
     "output_type": "stream",
     "text": [
      "4\n",
      "1\n",
      "2\n",
      "3\n",
      "4\n",
      "4\n",
      "5\n",
      "6\n",
      "7\n",
      "7\n",
      "8\n",
      "9\n"
     ]
    }
   ],
   "source": [
    "# to infinite\n",
    "try:\n",
    "    my_list = []\n",
    "    while True:\n",
    "        my_list.append(int(input()))\n",
    "\n",
    "except:\n",
    "    print(my_list)"
   ]
  },
  {
   "cell_type": "code",
   "execution_count": 2,
   "id": "12473f17",
   "metadata": {},
   "outputs": [
    {
     "name": "stdout",
     "output_type": "stream",
     "text": [
      "Enter number of elements : 4\n",
      "\n",
      "Enter the numbers : 3\n",
      "\n",
      "List is -  [3]\n"
     ]
    }
   ],
   "source": [
    "# number of elements\n",
    "n = int(input(\"Enter number of elements : \"))\n",
    " \n",
    "# Below line read inputs from user using map() function\n",
    "a = list(map(int,\n",
    "    input(\"\\nEnter the numbers : \").strip().split()))[:n]\n",
    " \n",
    "print(\"\\nList is - \", a)"
   ]
  },
  {
   "cell_type": "code",
   "execution_count": null,
   "id": "fb8d3b17",
   "metadata": {},
   "outputs": [],
   "source": [
    "# to infinite\n",
    "lst = []\n",
    "n = int(input(\"Enter number of elements : \"))\n",
    " \n",
    "for i in range(0, n):\n",
    "    ele = [input(), int(input())]\n",
    "    lst.append(ele)\n",
    "print(lst)"
   ]
  },
  {
   "cell_type": "code",
   "execution_count": 3,
   "id": "76389b04",
   "metadata": {},
   "outputs": [
    {
     "name": "stdout",
     "output_type": "stream",
     "text": [
      "Enter                 the list items : 4\n",
      "Enter                 the list items : 1\n",
      "[4]\n",
      "['1']\n"
     ]
    }
   ],
   "source": [
    "\n",
    "# For list of integers\n",
    "lst1 = []\n",
    " \n",
    "# For list of strings/chars\n",
    "lst2 = []\n",
    " \n",
    "lst1 = [int(item) for item in input(\"Enter \\\n",
    "                the list items : \").split()]\n",
    " \n",
    "lst2 = [item for item in input(\"Enter \\\n",
    "                the list items : \").split()]\n",
    " \n",
    "print(lst1)\n",
    "print(lst2)"
   ]
  }
 ],
 "metadata": {
  "kernelspec": {
   "display_name": "Python 3 (ipykernel)",
   "language": "python",
   "name": "python3"
  },
  "language_info": {
   "codemirror_mode": {
    "name": "ipython",
    "version": 3
   },
   "file_extension": ".py",
   "mimetype": "text/x-python",
   "name": "python",
   "nbconvert_exporter": "python",
   "pygments_lexer": "ipython3",
   "version": "3.9.17"
  }
 },
 "nbformat": 4,
 "nbformat_minor": 5
}
