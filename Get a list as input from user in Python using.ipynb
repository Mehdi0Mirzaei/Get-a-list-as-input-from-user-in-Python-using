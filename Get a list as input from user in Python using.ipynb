{
 "cells": [
  {
   "cell_type": "code",
   "execution_count": 1,
   "id": "2933a110",
   "metadata": {},
   "outputs": [
    {
     "name": "stdout",
     "output_type": "stream",
     "text": [
      "Enter number of elements: 7\n",
      "7\n",
      "34\n",
      "6\n",
      "90\n",
      "89\n",
      "76\n",
      "1\n",
      "[7, 34, 6, 90, 89, 76, 1]\n"
     ]
    }
   ],
   "source": [
    "lst=[]\n",
    "itemes=int(input(\"Enter number of elements: \"))\n",
    "for item in range(0,itemes) :\n",
    "    ele=int(input())\n",
    "    lst.append(ele)\n",
    "print(lst)"
   ]
  },
  {
   "cell_type": "code",
   "execution_count": null,
   "id": "c6743a91",
   "metadata": {},
   "outputs": [
    {
     "name": "stdout",
     "output_type": "stream",
     "text": [
      "4\n",
      "1\n",
      "2\n",
      "3\n",
      "4\n",
      "4\n",
      "5\n",
      "6\n",
      "7\n",
      "7\n",
      "8\n",
      "9\n"
     ]
    }
   ],
   "source": [
    "# to infinite\n",
    "try:\n",
    "    my_list = []\n",
    "    while True:\n",
    "        my_list.append(int(input()))\n",
    "\n",
    "except:\n",
    "    print(my_list)"
   ]
  },
  {
   "cell_type": "code",
   "execution_count": null,
   "id": "4d2e2859",
   "metadata": {},
   "outputs": [],
   "source": [
    "# to infinite\n",
    "lst = []\n",
    "n = int(input(\"Enter number of elements : \"))\n",
    " \n",
    "for i in range(0, n):\n",
    "    ele = [input(), int(input())]\n",
    "    lst.append(ele)\n",
    "print(lst)"
   ]
  }
 ],
 "metadata": {
  "kernelspec": {
   "display_name": "Python 3 (ipykernel)",
   "language": "python",
   "name": "python3"
  },
  "language_info": {
   "codemirror_mode": {
    "name": "ipython",
    "version": 3
   },
   "file_extension": ".py",
   "mimetype": "text/x-python",
   "name": "python",
   "nbconvert_exporter": "python",
   "pygments_lexer": "ipython3",
   "version": "3.9.17"
  }
 },
 "nbformat": 4,
 "nbformat_minor": 5
}
